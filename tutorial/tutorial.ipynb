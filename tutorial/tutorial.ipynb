{
 "cells": [
  {
   "cell_type": "code",
   "execution_count": null,
   "metadata": {},
   "outputs": [],
   "source": [
    "import ROOT\n",
    "ROOT.gStyle.SetOptStat(0) # deactivate annoying stat box in histograms"
   ]
  },
  {
   "cell_type": "code",
   "execution_count": null,
   "metadata": {},
   "outputs": [],
   "source": [
    "# Load a root file to a chain\n",
    "TChiWH_750_1 = ROOT.TChain(\"Events\")\n",
    "TChiWH_750_1.Add(\"WH_had_750_1_v1.root\")"
   ]
  },
  {
   "cell_type": "code",
   "execution_count": null,
   "metadata": {},
   "outputs": [],
   "source": [
    "# Explore the content of the file\n",
    "TChiWH_750_1.ls() # shows you the ROOT trees that you loaded\n",
    "TChiWH_750_1.GetListOfBranches().ls() # shows the branches of the tree\n",
    "\n",
    "#TChiWH_750_1.Scan(\"MET_pt:MET_phi\")"
   ]
  },
  {
   "cell_type": "code",
   "execution_count": null,
   "metadata": {},
   "outputs": [],
   "source": [
    "## Histogramming\n",
    "# That's what we usually mean when we say \"Let's make a plot\".\n",
    "\n",
    "can = ROOT.TCanvas(\"can\", \"\", 700,700)\n",
    "myFirstHisto = ROOT.TH1F(\"myFirstHisto\", \"\", 10, -0.5, 9.5)\n",
    "nJet = \"Sum$(Jet_pt>30&&abs(Jet_eta)<2.4&&Jet_jetId>1)\"\n",
    "TChiWH_750_1.Draw(\"%s>>myFirstHisto\"%nJet)\n",
    "\n",
    "can.Draw()"
   ]
  },
  {
   "cell_type": "code",
   "execution_count": null,
   "metadata": {},
   "outputs": [],
   "source": [
    "## Formating a plot\n",
    "# Let's make the plot a bit more beautiful, and normalize it to 1.\n",
    "\n",
    "myFirstHisto.Scale(1/myFirstHisto.Integral())\n",
    "myFirstHisto.GetXaxis().SetTitle(\"N_{jet}\")\n",
    "myFirstHisto.GetYaxis().SetTitle(\"frac. of events\")\n",
    "myFirstHisto.GetYaxis().SetTitleOffset(1.5)\n",
    "myFirstHisto.SetLineColor(ROOT.kRed+2)\n",
    "myFirstHisto.SetLineWidth(2)\n",
    "myFirstHisto.Draw(\"hist\")\n",
    "can.Draw()"
   ]
  },
  {
   "cell_type": "code",
   "execution_count": null,
   "metadata": {},
   "outputs": [],
   "source": [
    "from helpers import * # import some functions.\n",
    "\n",
    "cut = \"Sum$(Jet_pt>30&&abs(Jet_eta)<2.4&&Jet_jetId>1)==4\"\n",
    "\n",
    "mbb_histo = ROOT.TH1F(\"mbb_histo\", \"\", 50,20,220)\n",
    "mqq_histo = ROOT.TH1F(\"mqq_histo\", \"\", 50,20,220)\n",
    "\n",
    "TChiWH_750_1.Draw('>>eList',cut)\n",
    "elist = ROOT.gDirectory.Get(\"eList\")\n",
    "number_events = elist.GetN()\n",
    "for i in range(number_events):\n",
    "    \n",
    "    # We expect two b-jets\n",
    "    b1 = ROOT.TLorentzVector()\n",
    "    b2 = ROOT.TLorentzVector()\n",
    "\n",
    "    # and two light jets\n",
    "    q1 = ROOT.TLorentzVector()\n",
    "    q2 = ROOT.TLorentzVector()\n",
    "    \n",
    "    update_progress(float(i)/number_events)\n",
    "    TChiWH_750_1.GetEntry(elist.GetEntry(i))\n",
    "    \n",
    "    jets     = getJets(TChiWH_750_1)\n",
    "    bJets    = getBJets(TChiWH_750_1, year=2018)\n",
    "    nonBJets = getNonBJets(TChiWH_750_1, year=2018)\n",
    "    \n",
    "    # only use the case where the event is well defined: 2 b-tagged jets, 2 non-b-tagged jets\n",
    "    if len(bJets)==2:\n",
    "\n",
    "        #print len(nonBJets)\n",
    "        \n",
    "        b1.SetPtEtaPhiM(bJets[0]['pt'], bJets[0]['eta'], bJets[0]['phi'], 0)\n",
    "        b2.SetPtEtaPhiM(bJets[1]['pt'], bJets[1]['eta'], bJets[1]['phi'], 0)\n",
    "        q1.SetPtEtaPhiM(nonBJets[0]['pt'], nonBJets[0]['eta'], nonBJets[0]['phi'], 0)\n",
    "        q2.SetPtEtaPhiM(nonBJets[1]['pt'], nonBJets[1]['eta'], nonBJets[1]['phi'], 0)\n",
    "        \n",
    "        mbb = (b1+b2).M()\n",
    "        mbb_histo.Fill(mbb)\n",
    "        \n",
    "        mqq = (q1+q2).M()\n",
    "        mqq_histo.Fill(mqq)"
   ]
  },
  {
   "cell_type": "code",
   "execution_count": null,
   "metadata": {},
   "outputs": [],
   "source": [
    "can2 = ROOT.TCanvas(\"can2\", \"\", 700,700)\n",
    "\n",
    "mbb_histo.SetLineColor(ROOT.kGreen+2)\n",
    "mbb_histo.SetLineWidth(2)\n",
    "mbb_histo.GetXaxis().SetTitle(\"di-jet mass (GeV)\")\n",
    "\n",
    "mqq_histo.SetLineColor(ROOT.kBlue+1)\n",
    "mqq_histo.SetLineWidth(2)\n",
    "\n",
    "mbb_histo.Draw(\"hist\")\n",
    "mqq_histo.Draw(\"hist same\")\n",
    "can2.Draw()"
   ]
  },
  {
   "cell_type": "code",
   "execution_count": null,
   "metadata": {},
   "outputs": [],
   "source": [
    "FatJetMass_histo = ROOT.TH1F(\"FatJetMass_histo\", \"\", 50,20,220)\n",
    "cut = \"Sum$(Jet_pt>30&&abs(Jet_eta)<2.4&&Jet_jetId>1)==4&&Sum$(Jet_pt>30&&abs(Jet_eta)<2.4&&Jet_jetId>1&&Jet_btagDeepB>0.4184)==2\"\n",
    "TChiWH_750_1.Draw(\"FatJet_msoftdrop>>FatJetMass_histo\")\n",
    "\n",
    "can3 = ROOT.TCanvas(\"can3\", \"\", 700,700)\n",
    "FatJetMass_histo.Draw(\"hist\")\n",
    "can3.Draw()"
   ]
  },
  {
   "cell_type": "code",
   "execution_count": null,
   "metadata": {},
   "outputs": [],
   "source": [
    "FatJetMass_Higgs_histo = ROOT.TH1F(\"FatJetMass_Higgs_histo\", \"\", 50,20,220)\n",
    "FatJetMass_W_histo = ROOT.TH1F(\"FatJetMass_W_histo\", \"\", 50,20,220)\n",
    "\n",
    "TChiWH_750_1.Draw(\"FatJet_mass>>FatJetMass_Higgs_histo\", \"FatJet_deepTag_H>0.6\")\n",
    "TChiWH_750_1.Draw(\"FatJet_mass>>FatJetMass_W_histo\", \"FatJet_deepTag_WvsQCD>0.8\")\n",
    "\n",
    "FatJetMass_W_histo.SetLineColor(ROOT.kGreen+2)\n",
    "FatJetMass_W_histo.SetLineWidth(2)\n",
    "FatJetMass_W_histo.GetXaxis().SetTitle(\"FatJet mass (GeV)\")\n",
    "\n",
    "FatJetMass_Higgs_histo.SetLineColor(ROOT.kBlue+1)\n",
    "FatJetMass_Higgs_histo.SetLineWidth(2)\n",
    "\n",
    "can4 = ROOT.TCanvas(\"can4\", \"\", 700,700)\n",
    "FatJetMass_W_histo.Draw(\"hist\")\n",
    "FatJetMass_Higgs_histo.Draw(\"hist same\")\n",
    "\n",
    "can4.Draw()"
   ]
  },
  {
   "cell_type": "code",
   "execution_count": null,
   "metadata": {},
   "outputs": [],
   "source": [
    "## Signal vs Noise\n",
    "\n",
    "TChiWH_500_150 = ROOT.TChain(\"Events\")\n",
    "TChiWH_500_150.Add(\"WH_had_500_150_v1.root\")\n",
    "\n",
    "TTJets = ROOT.TChain(\"Events\")\n",
    "TTJets.Add(\"TTJets.root\")"
   ]
  },
  {
   "cell_type": "code",
   "execution_count": null,
   "metadata": {},
   "outputs": [],
   "source": [
    "#cut = \"Sum$(Jet_pt>30&&abs(Jet_eta)<2.4&&Jet_jetId>1)==4&&Sum$(Jet_pt>30&&abs(Jet_eta)<2.4&&Jet_jetId>1&&Jet_btagDeepB>0.4184)==2\"\n",
    "cut = \"(1)\"\n",
    "\n",
    "Signal1_MET_histo = ROOT.TH1F(\"Signal1_MET_histo\", \"\", 50,0,500)\n",
    "Signal2_MET_histo = ROOT.TH1F(\"Signal2_MET_histo\", \"\", 50,0,500)\n",
    "TTJets_MET_histo  = ROOT.TH1F(\"TTJets_MET_histo\",  \"\", 50,0,500)\n",
    "\n",
    "TChiWH_750_1   .Draw(\"MET_pt>>Signal1_MET_histo\", cut)\n",
    "TChiWH_500_150 .Draw(\"MET_pt>>Signal2_MET_histo\", cut)\n",
    "TTJets         .Draw(\"MET_pt>>TTJets_MET_histo\",  cut)\n"
   ]
  },
  {
   "cell_type": "code",
   "execution_count": null,
   "metadata": {},
   "outputs": [],
   "source": [
    "Signal1_MET_histo .SetLineColor(ROOT.kBlue+1)\n",
    "Signal2_MET_histo .SetLineColor(ROOT.kGreen+2)\n",
    "TTJets_MET_histo  .SetLineColor(ROOT.kRed+1)\n",
    "\n",
    "leg = ROOT.TLegend(0.6,0.4,0.85,0.5)\n",
    "\n",
    "\n",
    "can5 = ROOT.TCanvas(\"can5\", \"\", 700,700)\n",
    "\n",
    "same = ''\n",
    "for h in [TTJets_MET_histo, Signal1_MET_histo, Signal2_MET_histo]:\n",
    "    h.SetLineWidth(2)\n",
    "    h.Scale(1/h.Integral())\n",
    "    \n",
    "    h.GetXaxis().SetTitle(\"p_{T}^{miss} (GeV)\")\n",
    "    \n",
    "    h.Draw('hist'+same)\n",
    "    same = ' same'\n",
    "\n",
    "leg.AddEntry(Signal1_MET_histo, 'TChiWH(750,1)', 'l')\n",
    "leg.AddEntry(Signal2_MET_histo, 'TChiWH(500,150)', 'l')\n",
    "leg.AddEntry(TTJets_MET_histo, 't#bar{t}+jets', 'l')\n",
    "\n",
    "leg.Draw()\n",
    "can5.SetLogy()\n",
    "can5.Draw()"
   ]
  },
  {
   "cell_type": "code",
   "execution_count": null,
   "metadata": {},
   "outputs": [],
   "source": []
  }
 ],
 "metadata": {
  "kernelspec": {
   "display_name": "Python 2",
   "language": "python",
   "name": "python2"
  },
  "language_info": {
   "codemirror_mode": {
    "name": "ipython",
    "version": 2
   },
   "file_extension": ".py",
   "mimetype": "text/x-python",
   "name": "python",
   "nbconvert_exporter": "python",
   "pygments_lexer": "ipython2",
   "version": "2.7.16"
  }
 },
 "nbformat": 4,
 "nbformat_minor": 2
}
